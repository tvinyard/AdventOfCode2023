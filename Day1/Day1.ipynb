{
 "cells": [
  {
   "cell_type": "markdown",
   "metadata": {},
   "source": [
    "--- Day 1: Trebuchet?! ---\n",
    "\n",
    "Something is wrong with global snow production, and you've been selected to take a look. The Elves have even given you a map; on it, they've used stars to mark the top fifty locations that are likely to be having problems.\n",
    "\n",
    "You've been doing this long enough to know that to restore snow operations, you need to check all fifty stars by December 25th.\n",
    "\n",
    "Collect stars by solving puzzles. Two puzzles will be made available on each day in the Advent calendar; the second puzzle is unlocked when you complete the first. Each puzzle grants one star. Good luck!\n",
    "\n",
    "You try to ask why they can't just use a weather machine (\"not powerful enough\") and where they're even sending you (\"the sky\") and why your map looks mostly blank (\"you sure ask a lot of questions\") and hang on did you just say the sky (\"of course, where do you think snow comes from\") when you realize that the Elves are already loading you into a trebuchet (\"please hold still, we need to strap you in\").\n",
    "\n",
    "As they're making the final adjustments, they discover that their calibration document (your puzzle input) has been amended by a very young Elf who was apparently just excited to show off her art skills. Consequently, the Elves are having trouble reading the values on the document.\n",
    "\n",
    "The newly-improved calibration document consists of lines of text; each line originally contained a specific calibration value that the Elves now need to recover. On each line, the calibration value can be found by combining the first digit and the last digit (in that order) to form a single two-digit number.\n",
    "\n",
    "For example:\n",
    "\n",
    "    1abc2\n",
    "    pqr3stu8vwx\n",
    "    a1b2c3d4e5f\n",
    "    treb7uchet\n",
    "\n",
    "In this example, the calibration values of these four lines are 12, 38, 15, and 77. Adding these together produces 142.\n",
    "\n",
    "Consider your entire calibration document. What is the sum of all of the calibration values?\n"
   ]
  },
  {
   "cell_type": "code",
   "execution_count": 13,
   "metadata": {},
   "outputs": [],
   "source": [
    "import re"
   ]
  },
  {
   "cell_type": "code",
   "execution_count": 130,
   "metadata": {},
   "outputs": [
    {
     "data": {
      "text/plain": [
       "56049"
      ]
     },
     "execution_count": 130,
     "metadata": {},
     "output_type": "execute_result"
    }
   ],
   "source": [
    "with open('input.txt','r') as f:\n",
    "    read_data = f.read().split('\\n')\n",
    "\n",
    "numRegex = re.compile(r'(\\d+?)', re.VERBOSE)\n",
    "\n",
    "num_data = [numRegex.findall(x) for x in read_data]\n",
    "\n",
    "sum = 0\n",
    "for each in num_data:\n",
    "    each = each[0] + each[-1]\n",
    "    each = int(each)\n",
    "    sum = sum + each\n",
    "sum\n",
    "\n",
    "#56049"
   ]
  },
  {
   "cell_type": "markdown",
   "metadata": {},
   "source": [
    "--- Part Two ---\n",
    "\n",
    "Your calculation isn't quite right. It looks like some of the digits are actually spelled out with letters: one, two, three, four, five, six, seven, eight, and nine also count as valid \"digits\".\n",
    "\n",
    "Equipped with this new information, you now need to find the real first and last digit on each line. For example:\n",
    "\n",
    "    two1nine\n",
    "    eightwothree\n",
    "    abcone2threexyz\n",
    "    xtwone3four\n",
    "    4nineeightseven2\n",
    "    zoneight234\n",
    "    7pqrstsixteen\n",
    "\n",
    "In this example, the calibration values are 29, 83, 13, 24, 42, 14, and 76. Adding these together produces 281.\n",
    "\n",
    "What is the sum of all of the calibration values?\n"
   ]
  },
  {
   "cell_type": "code",
   "execution_count": 39,
   "metadata": {},
   "outputs": [],
   "source": [
    "example = ['two1nine',\n",
    "'eightwothree',\n",
    "'abcone2threexyz',\n",
    "'xtwone3four',\n",
    "'4nineeightseven2',\n",
    "'zoneight234',\n",
    "'7pqrstsixteen']"
   ]
  },
  {
   "cell_type": "code",
   "execution_count": 205,
   "metadata": {},
   "outputs": [
    {
     "data": {
      "text/plain": [
       "54530"
      ]
     },
     "execution_count": 205,
     "metadata": {},
     "output_type": "execute_result"
    }
   ],
   "source": [
    "with open('input.txt','r') as f:\n",
    "    text = f.read()\n",
    "\n",
    "str2num = {\n",
    "    \"one\": \"o1e\",\n",
    "    \"two\": \"t2o\",\n",
    "    \"three\": \"t3e\",\n",
    "    \"four\": \"f4r\",\n",
    "    \"five\": \"f5e\",\n",
    "    \"six\": \"s6x\",\n",
    "    \"seven\": \"s7n\",\n",
    "    \"eight\": \"e8t\",\n",
    "    \"nine\": \"n9e\",\n",
    "}\n",
    "\n",
    "for k, v in str2num.items():\n",
    "    text = text.replace(k, v)\n",
    "\n",
    "read_data2 = text.split('\\n')\n",
    "\n",
    "numRegex = re.compile(r'(\\d+?)', re.VERBOSE)\n",
    "num_data2 = [numRegex.findall(x) for x in read_data2]\n",
    "\n",
    "sum = 0\n",
    "for each in num_data2:\n",
    "    each = each[0] + each[-1]\n",
    "    each = int(each)\n",
    "    sum = sum + each\n",
    "sum\n",
    "\n",
    "#54530"
   ]
  },
  {
   "cell_type": "markdown",
   "metadata": {},
   "source": [
    "# Doesn't work!!  Off by 2!?!\n",
    "with open('input.txt','r') as f:\n",
    "    read_data = f.read().split('\\n')\n",
    "\n",
    "numRegex2 = re.compile(r'(\\d+?|one?|two?|three?|four?|five?|six?|seven?|eight?|nine?)', re.VERBOSE)\n",
    "\n",
    "codeDict = {\n",
    "    'one':1,\n",
    "    'two':2,\n",
    "    'three':3,\n",
    "    'four':4,\n",
    "    'five':5,\n",
    "    'six':6,\n",
    "    'seven':7,\n",
    "    'eight':8,\n",
    "    'nine':9\n",
    "}\n",
    "\n",
    "num_data2 = [numRegex2.findall(x) for x in read_data]\n",
    "#num_data2 = [[replace for x in i] for i in read_data]\n",
    "\n",
    "i=0\n",
    "for each in num_data2:\n",
    "    num_data2[i] = [codeDict.get(item,item) for item in each]\n",
    "    i+=1\n",
    "\n",
    "num_data2[451][5] = 2\n",
    "\n",
    "sum2 = 0\n",
    "for each in num_data2:\n",
    "    each = str(each[0]) + str(each[-1])\n",
    "    print(each)\n",
    "    each = int(each)\n",
    "    sum2 = sum2 + each\n",
    "sum2\n",
    "\n",
    "#54532 too high"
   ]
  }
 ],
 "metadata": {
  "kernelspec": {
   "display_name": "fluffy",
   "language": "python",
   "name": "python3"
  },
  "language_info": {
   "codemirror_mode": {
    "name": "ipython",
    "version": 3
   },
   "file_extension": ".py",
   "mimetype": "text/x-python",
   "name": "python",
   "nbconvert_exporter": "python",
   "pygments_lexer": "ipython3",
   "version": "3.7.4"
  }
 },
 "nbformat": 4,
 "nbformat_minor": 2
}
